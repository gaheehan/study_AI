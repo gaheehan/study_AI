{
  "nbformat": 4,
  "nbformat_minor": 0,
  "metadata": {
    "colab": {
      "provenance": [],
      "mount_file_id": "1WTR1JP2dWheK9yY0_jx2SYCFs-uDwTyP",
      "authorship_tag": "ABX9TyNaig1rVQGBP5YkvkASD5Xr",
      "include_colab_link": true
    },
    "kernelspec": {
      "name": "python3",
      "display_name": "Python 3"
    },
    "language_info": {
      "name": "python"
    }
  },
  "cells": [
    {
      "cell_type": "markdown",
      "metadata": {
        "id": "view-in-github",
        "colab_type": "text"
      },
      "source": [
        "<a href=\"https://colab.research.google.com/github/gaheehan/study_AI/blob/main/%EC%98%A4%EB%A5%98_%EB%B0%8F_%EB%88%84%EB%9D%BD_%EB%8D%B0%EC%9D%B4%ED%84%B0.ipynb\" target=\"_parent\"><img src=\"https://colab.research.google.com/assets/colab-badge.svg\" alt=\"Open In Colab\"/></a>"
      ]
    },
    {
      "cell_type": "markdown",
      "source": [
        "*이탤릭체 텍스트*"
      ],
      "metadata": {
        "id": "OY2eTlgLz7ap"
      }
    },
    {
      "cell_type": "markdown",
      "source": [],
      "metadata": {
        "id": "AmUcTRzCz8nu"
      }
    },
    {
      "cell_type": "markdown",
      "source": [
        "# 오류 및 누락 데이터(모듈17)\n",
        "\n",
        " 데이터 세트를 사용하기 전에 모든 데이터 세트에 오류와 누락 데이터가 있는지 확인해야 한다.잘못되거나 누락도니 데이터가 있는 경우 데이터 분석은 정확하기 않기 때문에 항상 데이터를 확인하는 것이 중요하다!"
      ],
      "metadata": {
        "id": "MFf1Uvzsz9Ym"
      }
    },
    {
      "cell_type": "markdown",
      "source": [
        "노트북을 시작할 때 필요한 모듈을 가져와야 함.\n",
        "필요한 라이브러리를 불러오자."
      ],
      "metadata": {
        "id": "AXou9aSL0iNk"
      }
    },
    {
      "cell_type": "code",
      "source": [
        "import matplotlib.pyplot as plt\n",
        "import pandas as pd\n",
        "import numpy as np"
      ],
      "metadata": {
        "id": "cUQKRda6z_fH"
      },
      "execution_count": 1,
      "outputs": []
    },
    {
      "cell_type": "markdown",
      "source": [
        "## 1. 오류 데이터\n",
        "\n",
        "예를 들어 농구 한 팀당 선수 수를 포함하는 데이터 세트가 있는 경우 선수의 수가 음수일 수 없기 때문에 음수 값은 오류 데이터이다.\n",
        "\n",
        " 이상치는 오류 데이터가 아니라 매우 드문 경우의 유효한 데이터이다. \n",
        "\n",
        " 다음 예는 잘못된 데이터와 이상치의 차이점을 보여준다."
      ],
      "metadata": {
        "id": "WUVgtxFK01qM"
      }
    },
    {
      "cell_type": "markdown",
      "source": [
        "### 1.1 컴퓨터 게임 가격\n",
        "\n",
        "컴퓨터 게임의 가격이 게임을 좋아하는 사람들의 수와 관련이 있는지 여부를 연구하는 과제\n",
        " 이것은 게임 개발 회사가 최신 게임의 가격을 조정하는 데 도움을 줄 것이다.\n",
        " 국 달러(USD)로 가격 데이터를 모두 수집하였고, 게임을 좋아한 사람의 숫자도 수집하였다고 가정하면, 이제 데이터에 이상값이나 잘못된 데이터가 포함되어 있는지 확인해야 한다."
      ],
      "metadata": {
        "id": "ekT6nmMD2EAv"
      }
    },
    {
      "cell_type": "code",
      "source": [
        "# game_name은 게임의 이름을 나타냅니다.\n",
        "# game_price는 컴퓨터 게임의 가격을 나타내고 num_people은 게임을 좋아한 사람들의 수를 나타냅니다.\n",
        "game_name = ['Phone of duty','PIFA soccer','Lario cart','Hokemon','Loom','League of failures','Fritnite','Fatty Trotter']\n",
        "game_price = [10,20,50,150,80,200,1000,-100]\n",
        "num_people = [1,2,5,15,8,10,1,0.5]\n",
        "\n",
        "plt.scatter(num_people[0:5],game_price[0:5])\n",
        "plt.scatter(num_people[5], game_price[5], c='g')\n",
        "plt.scatter(num_people[6:8], game_price[6:8], c='r')\n",
        "\n",
        "plt.xlabel(\"Number of People\")\n",
        "plt.ylabel(\"Price of game (USD)\")\n",
        "\n",
        "plt.show()    "
      ],
      "metadata": {
        "colab": {
          "base_uri": "https://localhost:8080/",
          "height": 279
        },
        "id": "U1fPppoj0x7J",
        "outputId": "1b1ee0b9-6ae4-4d19-f94b-d9a4d7c4dd1b"
      },
      "execution_count": 2,
      "outputs": [
        {
          "output_type": "display_data",
          "data": {
            "text/plain": [
              "<Figure size 432x288 with 1 Axes>"
            ],
            "image/png": "[encoded data removed]"
          },
          "metadata": {
            "needs_background": "light"
          }
        }
      ]
    },
    {
      "cell_type": "markdown",
      "source": [
        "빨간색 - 가격이 음수이고 게임을 좋아하는 사람이 0~1명 사이이기 때문에 오류이다. \n",
        "가격은 음수일 수x, 사람수도 분수일 수 x. \n",
        "두번째로 표시된 점은 컴퓨터 게임이 1000달러 만큼 비싸지 않기 때문에 오류\n",
        "\n",
        "이러한 값은 제거해야한다. "
      ],
      "metadata": {
        "id": "MqCVJRqf3pCZ"
      }
    },
    {
      "cell_type": "code",
      "source": [
        "# game_name은 게임의 이름을 나타냅니다.\n",
        "# game_price는 컴퓨터 게임의 가격을 나타내고 num_people은 게임을 좋아한 사람들의 수를 나타냅니다.\n",
        "game_name = ['Phone of duty','PIFA soccer','Lario cart','Hokemon','Loom','League of failures','Fritnite','Fatty Trotter']\n",
        "game_price = [10,20,50,150,80,200]\n",
        "num_people = [1,2,5,15,8,10,1]\n",
        "\n",
        "plt.scatter(num_people[0:5],game_price[0:5])\n",
        "plt.scatter(num_people[5], game_price[5], c='g')\n",
        "\n",
        "plt.xlabel(\"Number of People\")\n",
        "plt.ylabel(\"Price of game (USD)\")\n",
        "\n",
        "plt.show()    "
      ],
      "metadata": {
        "colab": {
          "base_uri": "https://localhost:8080/",
          "height": 279
        },
        "id": "9DqJKchL3XFy",
        "outputId": "e0e92bcc-3855-404e-9af3-20864dd07ec7"
      },
      "execution_count": 5,
      "outputs": [
        {
          "output_type": "display_data",
          "data": {
            "text/plain": [
              "<Figure size 432x288 with 1 Axes>"
            ],
            "image/png": "[encoded data removed]"
          },
          "metadata": {
            "needs_background": "light"
          }
        }
      ]
    },
    {
      "cell_type": "markdown",
      "source": [
        "게임 가격과 게임을 좋아한 사람들의 수 사이에 선형 관계가 있는 것으로 보인다. 더 많은 사람이 게임을 좋아할수록 게임의 가격은 더 높아지는 경향을 볼 수 있다.\n",
        "\n",
        "선형 관계 중에 녹색 점이 맞지않는다. 오류데이터라기 보단 이상치일 가능성이 높다. \n",
        "\n",
        "이상치가 하나만 있으므로 제거 후 새로운 산점도를 그려본다."
      ],
      "metadata": {
        "id": "9yxjt9nj4nVy"
      }
    },
    {
      "cell_type": "code",
      "source": [
        "# game_name은 게임의 이름을 나타냅니다.\n",
        "# game_price는 컴퓨터 게임의 가격을 나타내고 num_people은 게임을 좋아한 사람들의 수를 나타냅니다.\n",
        "game_name = ['Phone of duty','PIFA soccer','Lario cart','Hokemon','Loom','League of failures','Fritnite','Fatty Trotter']\n",
        "game_price = [10,20,50,150,80,200]\n",
        "num_people = [1,2,5,15,8,10,1]\n",
        "\n",
        "plt.scatter(num_people[0:5],game_price[0:5])\n",
        "\n",
        "plt.xlabel(\"Number of People\")\n",
        "plt.ylabel(\"Price of game (USD)\")\n",
        "\n",
        "plt.show() "
      ],
      "metadata": {
        "colab": {
          "base_uri": "https://localhost:8080/",
          "height": 279
        },
        "id": "pikJrQPD4ToA",
        "outputId": "db94c8bd-ca06-46c9-d060-8450b0ba31f4"
      },
      "execution_count": 6,
      "outputs": [
        {
          "output_type": "display_data",
          "data": {
            "text/plain": [
              "<Figure size 432x288 with 1 Axes>"
            ],
            "image/png": "[encoded data removed]"
          },
          "metadata": {
            "needs_background": "light"
          }
        }
      ]
    },
    {
      "cell_type": "markdown",
      "source": [
        "### 1.2 데이터 프레임에서 오류 데이터 처리\n",
        "\n",
        "학생이 공부한 시간과 수학,영어 및 과학 시험 점수에 대한 데이터 포함되어 있는 csv파일을 불러온다.\n",
        "\n",
        "학생이 공부에 더 많은 시간을 할애할 때 더 나은 점수를 받아야 한다고 가정. 그러나 연구에 따르면 학생은 하루에 16시간 이상 공부할 수 없다. 또한 일부 데이터가 잘못 되었을 수도 있다. 데이터에서 오류가 확인되면 데이터의 전체 행을 제거해야 한다."
      ],
      "metadata": {
        "id": "4qSykycm5DIW"
      }
    },
    {
      "cell_type": "markdown",
      "source": [
        "#### 코랩으로 데이터 불러오기"
      ],
      "metadata": {
        "id": "kwlUmkR26ICb"
      }
    },
    {
      "cell_type": "code",
      "source": [
        "from google.colab import drive\n",
        "drive.mount('/content/drive')"
      ],
      "metadata": {
        "colab": {
          "base_uri": "https://localhost:8080/"
        },
        "id": "YgvpI9v16JUc",
        "outputId": "b188ac78-cd6a-4f24-8c47-ea3417947d88"
      },
      "execution_count": 7,
      "outputs": [
        {
          "output_type": "stream",
          "name": "stdout",
          "text": [
            "Drive already mounted at /content/drive; to attempt to forcibly remount, call drive.mount(\"/content/drive\", force_remount=True).\n"
          ]
        }
      ]
    },
    {
      "cell_type": "markdown",
      "source": [
        "먼제 데이터를 데이터 프레임 df로 읽어 온다."
      ],
      "metadata": {
        "id": "65dwcYKE5WlV"
      }
    },
    {
      "cell_type": "code",
      "source": [
        "df = pd.read_csv(\"/content/drive/MyDrive/Colab Notebooks/intel 복습/17/Students_Score1.csv\")\n",
        "df.head()"
      ],
      "metadata": {
        "colab": {
          "base_uri": "https://localhost:8080/",
          "height": 267
        },
        "id": "n4DqTIyk6RGt",
        "outputId": "c0b30cd4-78f4-41a2-deef-ec7580754bf7"
      },
      "execution_count": 28,
      "outputs": [
        {
          "output_type": "execute_result",
          "data": {
            "text/plain": [
              "   Student No.  Hours spent studying in a day  Mathematics score  \\\n",
              "0            1                             11                 44   \n",
              "1            2                             19                 76   \n",
              "2            3                              4                 16   \n",
              "3            4                             24                 96   \n",
              "4            5                              4                 16   \n",
              "\n",
              "   English score  Science score  \n",
              "0           39.6           35.2  \n",
              "1           68.4           60.8  \n",
              "2           14.4           12.8  \n",
              "3           86.4           76.8  \n",
              "4           14.4           12.8  "
            ],
            "text/html": [
              "\n",
              "  <div id=\"df-1510dd77-8a71-4fd1-80e0-ea7cf714f59c\">\n",
              "    <div class=\"colab-df-container\">\n",
              "      <div>\n",
              "<style scoped>\n",
              "    .dataframe tbody tr th:only-of-type {\n",
              "        vertical-align: middle;\n",
              "    }\n",
              "\n",
              "    .dataframe tbody tr th {\n",
              "        vertical-align: top;\n",
              "    }\n",
              "\n",
              "    .dataframe thead th {\n",
              "        text-align: right;\n",
              "    }\n",
              "</style>\n",
              "<table border=\"1\" class=\"dataframe\">\n",
              "  <thead>\n",
              "    <tr style=\"text-align: right;\">\n",
              "      <th></th>\n",
              "      <th>Student No.</th>\n",
              "      <th>Hours spent studying in a day</th>\n",
              "      <th>Mathematics score</th>\n",
              "      <th>English score</th>\n",
              "      <th>Science score</th>\n",
              "    </tr>\n",
              "  </thead>\n",
              "  <tbody>\n",
              "    <tr>\n",
              "      <th>0</th>\n",
              "      <td>1</td>\n",
              "      <td>11</td>\n",
              "      <td>44</td>\n",
              "      <td>39.6</td>\n",
              "      <td>35.2</td>\n",
              "    </tr>\n",
              "    <tr>\n",
              "      <th>1</th>\n",
              "      <td>2</td>\n",
              "      <td>19</td>\n",
              "      <td>76</td>\n",
              "      <td>68.4</td>\n",
              "      <td>60.8</td>\n",
              "    </tr>\n",
              "    <tr>\n",
              "      <th>2</th>\n",
              "      <td>3</td>\n",
              "      <td>4</td>\n",
              "      <td>16</td>\n",
              "      <td>14.4</td>\n",
              "      <td>12.8</td>\n",
              "    </tr>\n",
              "    <tr>\n",
              "      <th>3</th>\n",
              "      <td>4</td>\n",
              "      <td>24</td>\n",
              "      <td>96</td>\n",
              "      <td>86.4</td>\n",
              "      <td>76.8</td>\n",
              "    </tr>\n",
              "    <tr>\n",
              "      <th>4</th>\n",
              "      <td>5</td>\n",
              "      <td>4</td>\n",
              "      <td>16</td>\n",
              "      <td>14.4</td>\n",
              "      <td>12.8</td>\n",
              "    </tr>\n",
              "  </tbody>\n",
              "</table>\n",
              "</div>\n",
              "      <button class=\"colab-df-convert\" onclick=\"convertToInteractive('df-1510dd77-8a71-4fd1-80e0-ea7cf714f59c')\"\n",
              "              title=\"Convert this dataframe to an interactive table.\"\n",
              "              style=\"display:none;\">\n",
              "        \n",
              "  <svg xmlns=\"http://www.w3.org/2000/svg\" height=\"24px\"viewBox=\"0 0 24 24\"\n",
              "       width=\"24px\">\n",
              "    <path d=\"M0 0h24v24H0V0z\" fill=\"none\"/>\n",
              "    <path d=\"M18.56 5.44l.94 2.06.94-2.06 2.06-.94-2.06-.94-.94-2.06-.94 2.06-2.06.94zm-11 1L8.5 8.5l.94-2.06 2.06-.94-2.06-.94L8.5 2.5l-.94 2.06-2.06.94zm10 10l.94 2.06.94-2.06 2.06-.94-2.06-.94-.94-2.06-.94 2.06-2.06.94z\"/><path d=\"M17.41 7.96l-1.37-1.37c-.4-.4-.92-.59-1.43-.59-.52 0-1.04.2-1.43.59L10.3 9.45l-7.72 7.72c-.78.78-.78 2.05 0 2.83L4 21.41c.39.39.9.59 1.41.59.51 0 1.02-.2 1.41-.59l7.78-7.78 2.81-2.81c.8-.78.8-2.07 0-2.86zM5.41 20L4 18.59l7.72-7.72 1.47 1.35L5.41 20z\"/>\n",
              "  </svg>\n",
              "      </button>\n",
              "      \n",
              "  <style>\n",
              "    .colab-df-container {\n",
              "      display:flex;\n",
              "      flex-wrap:wrap;\n",
              "      gap: 12px;\n",
              "    }\n",
              "\n",
              "    .colab-df-convert {\n",
              "      background-color: #E8F0FE;\n",
              "      border: none;\n",
              "      border-radius: 50%;\n",
              "      cursor: pointer;\n",
              "      display: none;\n",
              "      fill: #1967D2;\n",
              "      height: 32px;\n",
              "      padding: 0 0 0 0;\n",
              "      width: 32px;\n",
              "    }\n",
              "\n",
              "    .colab-df-convert:hover {\n",
              "      background-color: #E2EBFA;\n",
              "      box-shadow: 0px 1px 2px rgba(60, 64, 67, 0.3), 0px 1px 3px 1px rgba(60, 64, 67, 0.15);\n",
              "      fill: #174EA6;\n",
              "    }\n",
              "\n",
              "    [theme=dark] .colab-df-convert {\n",
              "      background-color: #3B4455;\n",
              "      fill: #D2E3FC;\n",
              "    }\n",
              "\n",
              "    [theme=dark] .colab-df-convert:hover {\n",
              "      background-color: #434B5C;\n",
              "      box-shadow: 0px 1px 3px 1px rgba(0, 0, 0, 0.15);\n",
              "      filter: drop-shadow(0px 1px 2px rgba(0, 0, 0, 0.3));\n",
              "      fill: #FFFFFF;\n",
              "    }\n",
              "  </style>\n",
              "\n",
              "      <script>\n",
              "        const buttonEl =\n",
              "          document.querySelector('#df-1510dd77-8a71-4fd1-80e0-ea7cf714f59c button.colab-df-convert');\n",
              "        buttonEl.style.display =\n",
              "          google.colab.kernel.accessAllowed ? 'block' : 'none';\n",
              "\n",
              "        async function convertToInteractive(key) {\n",
              "          const element = document.querySelector('#df-1510dd77-8a71-4fd1-80e0-ea7cf714f59c');\n",
              "          const dataTable =\n",
              "            await google.colab.kernel.invokeFunction('convertToInteractive',\n",
              "                                                     [key], {});\n",
              "          if (!dataTable) return;\n",
              "\n",
              "          const docLinkHtml = 'Like what you see? Visit the ' +\n",
              "            '<a target=\"_blank\" href=https://colab.research.google.com/notebooks/data_table.ipynb>data table notebook</a>'\n",
              "            + ' to learn more about interactive tables.';\n",
              "          element.innerHTML = '';\n",
              "          dataTable['output_type'] = 'display_data';\n",
              "          await google.colab.output.renderOutput(dataTable, element);\n",
              "          const docLink = document.createElement('div');\n",
              "          docLink.innerHTML = docLinkHtml;\n",
              "          element.appendChild(docLink);\n",
              "        }\n",
              "      </script>\n",
              "    </div>\n",
              "  </div>\n",
              "  "
            ]
          },
          "metadata": {},
          "execution_count": 28
        }
      ]
    },
    {
      "cell_type": "markdown",
      "source": [
        "df의 info()출력. 출력된 정보로 데이터 프레임의 열 이름을 이해하고, 누락된 값을 확인할 수 있다."
      ],
      "metadata": {
        "id": "8kvLT6W37Dtp"
      }
    },
    {
      "cell_type": "code",
      "source": [
        "df.info()"
      ],
      "metadata": {
        "colab": {
          "base_uri": "https://localhost:8080/"
        },
        "id": "Ths6HLsW68Tj",
        "outputId": "2904e170-b647-4c03-d581-1518556d2239"
      },
      "execution_count": 29,
      "outputs": [
        {
          "output_type": "stream",
          "name": "stdout",
          "text": [
            "<class 'pandas.core.frame.DataFrame'>\n",
            "RangeIndex: 267 entries, 0 to 266\n",
            "Data columns (total 5 columns):\n",
            " #   Column                         Non-Null Count  Dtype  \n",
            "---  ------                         --------------  -----  \n",
            " 0   Student No.                    267 non-null    int64  \n",
            " 1   Hours spent studying in a day  267 non-null    int64  \n",
            " 2   Mathematics score              267 non-null    int64  \n",
            " 3   English score                  267 non-null    float64\n",
            " 4   Science score                  267 non-null    float64\n",
            "dtypes: float64(2), int64(3)\n",
            "memory usage: 10.6 KB\n"
          ]
        }
      ]
    },
    {
      "cell_type": "markdown",
      "source": [
        "Column명 파악 다했당. 오류 데이터를 확인하려면 시간과 점수의 최소값과 최대값을 알아야 한다. 이러한 세부 사항을 알아보기 위해 describe()를 이용하여 정보를 출력한다."
      ],
      "metadata": {
        "id": "fTCSdqGL7PF1"
      }
    },
    {
      "cell_type": "code",
      "source": [
        "df.describe()"
      ],
      "metadata": {
        "colab": {
          "base_uri": "https://localhost:8080/",
          "height": 361
        },
        "id": "Wxfw_ktN7L8t",
        "outputId": "0c89f641-1af5-4c5a-fc27-ac4b945fd343"
      },
      "execution_count": 30,
      "outputs": [
        {
          "output_type": "execute_result",
          "data": {
            "text/plain": [
              "       Student No.  Hours spent studying in a day  Mathematics score  \\\n",
              "count   267.000000                     267.000000         267.000000   \n",
              "mean    134.000000                      12.123596          48.749064   \n",
              "std      77.220464                       7.668636          31.802503   \n",
              "min       1.000000                     -10.000000         -40.000000   \n",
              "25%      67.500000                       6.000000          24.000000   \n",
              "50%     134.000000                      12.000000          48.000000   \n",
              "75%     200.500000                      18.000000          74.000000   \n",
              "max     267.000000                      40.000000         175.000000   \n",
              "\n",
              "       English score  Science score  \n",
              "count     267.000000     267.000000  \n",
              "mean       43.539326      38.795506  \n",
              "std        28.521820      24.539635  \n",
              "min       -36.000000     -32.000000  \n",
              "25%        21.600000      19.200000  \n",
              "50%        43.200000      38.400000  \n",
              "75%        66.600000      57.600000  \n",
              "max       144.000000     128.000000  "
            ],
            "text/html": [
              "\n",
              "  <div id=\"df-9cd7d160-b7c9-414e-b196-9b9143086217\">\n",
              "    <div class=\"colab-df-container\">\n",
              "      <div>\n",
              "<style scoped>\n",
              "    .dataframe tbody tr th:only-of-type {\n",
              "        vertical-align: middle;\n",
              "    }\n",
              "\n",
              "    .dataframe tbody tr th {\n",
              "        vertical-align: top;\n",
              "    }\n",
              "\n",
              "    .dataframe thead th {\n",
              "        text-align: right;\n",
              "    }\n",
              "</style>\n",
              "<table border=\"1\" class=\"dataframe\">\n",
              "  <thead>\n",
              "    <tr style=\"text-align: right;\">\n",
              "      <th></th>\n",
              "      <th>Student No.</th>\n",
              "      <th>Hours spent studying in a day</th>\n",
              "      <th>Mathematics score</th>\n",
              "      <th>English score</th>\n",
              "      <th>Science score</th>\n",
              "    </tr>\n",
              "  </thead>\n",
              "  <tbody>\n",
              "    <tr>\n",
              "      <th>count</th>\n",
              "      <td>267.000000</td>\n",
              "      <td>267.000000</td>\n",
              "      <td>267.000000</td>\n",
              "      <td>267.000000</td>\n",
              "      <td>267.000000</td>\n",
              "    </tr>\n",
              "    <tr>\n",
              "      <th>mean</th>\n",
              "      <td>134.000000</td>\n",
              "      <td>12.123596</td>\n",
              "      <td>48.749064</td>\n",
              "      <td>43.539326</td>\n",
              "      <td>38.795506</td>\n",
              "    </tr>\n",
              "    <tr>\n",
              "      <th>std</th>\n",
              "      <td>77.220464</td>\n",
              "      <td>7.668636</td>\n",
              "      <td>31.802503</td>\n",
              "      <td>28.521820</td>\n",
              "      <td>24.539635</td>\n",
              "    </tr>\n",
              "    <tr>\n",
              "      <th>min</th>\n",
              "      <td>1.000000</td>\n",
              "      <td>-10.000000</td>\n",
              "      <td>-40.000000</td>\n",
              "      <td>-36.000000</td>\n",
              "      <td>-32.000000</td>\n",
              "    </tr>\n",
              "    <tr>\n",
              "      <th>25%</th>\n",
              "      <td>67.500000</td>\n",
              "      <td>6.000000</td>\n",
              "      <td>24.000000</td>\n",
              "      <td>21.600000</td>\n",
              "      <td>19.200000</td>\n",
              "    </tr>\n",
              "    <tr>\n",
              "      <th>50%</th>\n",
              "      <td>134.000000</td>\n",
              "      <td>12.000000</td>\n",
              "      <td>48.000000</td>\n",
              "      <td>43.200000</td>\n",
              "      <td>38.400000</td>\n",
              "    </tr>\n",
              "    <tr>\n",
              "      <th>75%</th>\n",
              "      <td>200.500000</td>\n",
              "      <td>18.000000</td>\n",
              "      <td>74.000000</td>\n",
              "      <td>66.600000</td>\n",
              "      <td>57.600000</td>\n",
              "    </tr>\n",
              "    <tr>\n",
              "      <th>max</th>\n",
              "      <td>267.000000</td>\n",
              "      <td>40.000000</td>\n",
              "      <td>175.000000</td>\n",
              "      <td>144.000000</td>\n",
              "      <td>128.000000</td>\n",
              "    </tr>\n",
              "  </tbody>\n",
              "</table>\n",
              "</div>\n",
              "      <button class=\"colab-df-convert\" onclick=\"convertToInteractive('df-9cd7d160-b7c9-414e-b196-9b9143086217')\"\n",
              "              title=\"Convert this dataframe to an interactive table.\"\n",
              "              style=\"display:none;\">\n",
              "        \n",
              "  <svg xmlns=\"http://www.w3.org/2000/svg\" height=\"24px\"viewBox=\"0 0 24 24\"\n",
              "       width=\"24px\">\n",
              "    <path d=\"M0 0h24v24H0V0z\" fill=\"none\"/>\n",
              "    <path d=\"M18.56 5.44l.94 2.06.94-2.06 2.06-.94-2.06-.94-.94-2.06-.94 2.06-2.06.94zm-11 1L8.5 8.5l.94-2.06 2.06-.94-2.06-.94L8.5 2.5l-.94 2.06-2.06.94zm10 10l.94 2.06.94-2.06 2.06-.94-2.06-.94-.94-2.06-.94 2.06-2.06.94z\"/><path d=\"M17.41 7.96l-1.37-1.37c-.4-.4-.92-.59-1.43-.59-.52 0-1.04.2-1.43.59L10.3 9.45l-7.72 7.72c-.78.78-.78 2.05 0 2.83L4 21.41c.39.39.9.59 1.41.59.51 0 1.02-.2 1.41-.59l7.78-7.78 2.81-2.81c.8-.78.8-2.07 0-2.86zM5.41 20L4 18.59l7.72-7.72 1.47 1.35L5.41 20z\"/>\n",
              "  </svg>\n",
              "      </button>\n",
              "      \n",
              "  <style>\n",
              "    .colab-df-container {\n",
              "      display:flex;\n",
              "      flex-wrap:wrap;\n",
              "      gap: 12px;\n",
              "    }\n",
              "\n",
              "    .colab-df-convert {\n",
              "      background-color: #E8F0FE;\n",
              "      border: none;\n",
              "      border-radius: 50%;\n",
              "      cursor: pointer;\n",
              "      display: none;\n",
              "      fill: #1967D2;\n",
              "      height: 32px;\n",
              "      padding: 0 0 0 0;\n",
              "      width: 32px;\n",
              "    }\n",
              "\n",
              "    .colab-df-convert:hover {\n",
              "      background-color: #E2EBFA;\n",
              "      box-shadow: 0px 1px 2px rgba(60, 64, 67, 0.3), 0px 1px 3px 1px rgba(60, 64, 67, 0.15);\n",
              "      fill: #174EA6;\n",
              "    }\n",
              "\n",
              "    [theme=dark] .colab-df-convert {\n",
              "      background-color: #3B4455;\n",
              "      fill: #D2E3FC;\n",
              "    }\n",
              "\n",
              "    [theme=dark] .colab-df-convert:hover {\n",
              "      background-color: #434B5C;\n",
              "      box-shadow: 0px 1px 3px 1px rgba(0, 0, 0, 0.15);\n",
              "      filter: drop-shadow(0px 1px 2px rgba(0, 0, 0, 0.3));\n",
              "      fill: #FFFFFF;\n",
              "    }\n",
              "  </style>\n",
              "\n",
              "      <script>\n",
              "        const buttonEl =\n",
              "          document.querySelector('#df-9cd7d160-b7c9-414e-b196-9b9143086217 button.colab-df-convert');\n",
              "        buttonEl.style.display =\n",
              "          google.colab.kernel.accessAllowed ? 'block' : 'none';\n",
              "\n",
              "        async function convertToInteractive(key) {\n",
              "          const element = document.querySelector('#df-9cd7d160-b7c9-414e-b196-9b9143086217');\n",
              "          const dataTable =\n",
              "            await google.colab.kernel.invokeFunction('convertToInteractive',\n",
              "                                                     [key], {});\n",
              "          if (!dataTable) return;\n",
              "\n",
              "          const docLinkHtml = 'Like what you see? Visit the ' +\n",
              "            '<a target=\"_blank\" href=https://colab.research.google.com/notebooks/data_table.ipynb>data table notebook</a>'\n",
              "            + ' to learn more about interactive tables.';\n",
              "          element.innerHTML = '';\n",
              "          dataTable['output_type'] = 'display_data';\n",
              "          await google.colab.output.renderOutput(dataTable, element);\n",
              "          const docLink = document.createElement('div');\n",
              "          docLink.innerHTML = docLinkHtml;\n",
              "          element.appendChild(docLink);\n",
              "        }\n",
              "      </script>\n",
              "    </div>\n",
              "  </div>\n",
              "  "
            ]
          },
          "metadata": {},
          "execution_count": 30
        }
      ]
    },
    {
      "cell_type": "markdown",
      "source": [
        "시간,수학 점수,영어 점수,과학 점수 모두 이상치가 있다.\n",
        "\n",
        "이제 오류가 있는 데이터를 제거해보장!\n",
        "수학 점수에 대해 작업을 진행. 수학 점수가 0보다 작거나 100보다 작은 큰 행을 제거할 수 있어야 한다."
      ],
      "metadata": {
        "id": "iKi9zkhe7luI"
      }
    },
    {
      "cell_type": "code",
      "source": [
        "df2 = df[df['Mathematics score']>= 0]\n",
        "df3 = df2[df2['Mathematics score']<= 100]\n",
        "print(df3.describe())\n",
        "print(df3.info())"
      ],
      "metadata": {
        "colab": {
          "base_uri": "https://localhost:8080/"
        },
        "id": "n5UIFwv17ckK",
        "outputId": "922133dd-7b9d-45ae-a880-32cc48177fae"
      },
      "execution_count": 31,
      "outputs": [
        {
          "output_type": "stream",
          "name": "stdout",
          "text": [
            "       Student No.  Hours spent studying in a day  Mathematics score  \\\n",
            "count   261.000000                     261.000000         261.000000   \n",
            "mean    135.578544                      12.160920          48.337165   \n",
            "std      77.120975                       7.442405          29.021102   \n",
            "min       1.000000                       0.000000           0.000000   \n",
            "25%      70.000000                       6.000000          24.000000   \n",
            "50%     137.000000                      12.000000          48.000000   \n",
            "75%     202.000000                      18.000000          72.000000   \n",
            "max     267.000000                      40.000000          96.000000   \n",
            "\n",
            "       English score  Science score  \n",
            "count     261.000000     261.000000  \n",
            "mean       43.671264      38.914943  \n",
            "std        27.756135      23.815696  \n",
            "min       -15.000000       0.000000  \n",
            "25%        21.600000      19.200000  \n",
            "50%        43.200000      38.400000  \n",
            "75%        64.800000      57.600000  \n",
            "max       144.000000     128.000000  \n",
            "<class 'pandas.core.frame.DataFrame'>\n",
            "Int64Index: 261 entries, 0 to 266\n",
            "Data columns (total 5 columns):\n",
            " #   Column                         Non-Null Count  Dtype  \n",
            "---  ------                         --------------  -----  \n",
            " 0   Student No.                    261 non-null    int64  \n",
            " 1   Hours spent studying in a day  261 non-null    int64  \n",
            " 2   Mathematics score              261 non-null    int64  \n",
            " 3   English score                  261 non-null    float64\n",
            " 4   Science score                  261 non-null    float64\n",
            "dtypes: float64(2), int64(3)\n",
            "memory usage: 12.2 KB\n",
            "None\n"
          ]
        }
      ]
    },
    {
      "cell_type": "markdown",
      "source": [
        "수학 점수는 이제 0과 100 사이의 값으로 실제 시험 결과로 가능한 점수이다. \n",
        "\n",
        "출력 결과를 데이터 제거 전의 결과와 비교하면 수학 점수 범위가 0에서 96까지 인 것을 알 수 있다.\n",
        ".info()에서 데이터 포인트 수가 267에서 261로 감소했음을 알 수 있다. 이는 수학 점수에서 6개의 오류가 있음을 나타낸다."
      ],
      "metadata": {
        "id": "EfFHYUEu-LG6"
      }
    },
    {
      "cell_type": "markdown",
      "source": [
        "이제 영어 점수, 과학 점수 및 하루 공부 시간 열에서 오류 데이터를 제거할 차례이다."
      ],
      "metadata": {
        "id": "aV1vMVfg-hf5"
      }
    },
    {
      "cell_type": "code",
      "source": [
        "df4 = df3[df3['English score']>=0]\n",
        "df5 = df4[df4['English score']<=100]\n",
        "\n",
        "df6 = df5[df5['Science score']>=0]\n",
        "df7 = df6[df6['Science score']<=100]\n",
        "\n",
        "df8 = df7[df7['Hours spent studying in a day']>=0]\n",
        "df9 = df8[df8['Hours spent studying in a day']<=16]\n",
        "\n",
        "print(df9.describe())\n",
        "print(df9.info())"
      ],
      "metadata": {
        "colab": {
          "base_uri": "https://localhost:8080/"
        },
        "id": "L_Ls_SVu9KRa",
        "outputId": "102e4264-df0d-42bd-f5d1-4b542132e3f0"
      },
      "execution_count": 32,
      "outputs": [
        {
          "output_type": "stream",
          "name": "stdout",
          "text": [
            "       Student No.  Hours spent studying in a day  Mathematics score  \\\n",
            "count   179.000000                     179.000000         179.000000   \n",
            "mean    133.536313                       8.189944          32.759777   \n",
            "std      77.929762                       4.990745          19.962981   \n",
            "min       1.000000                       0.000000           0.000000   \n",
            "25%      63.500000                       4.000000          16.000000   \n",
            "50%     138.000000                       8.000000          32.000000   \n",
            "75%     199.000000                      12.500000          50.000000   \n",
            "max     266.000000                      16.000000          64.000000   \n",
            "\n",
            "       English score  Science score  \n",
            "count     179.000000     179.000000  \n",
            "mean       29.483799      26.207821  \n",
            "std        17.966683      15.970385  \n",
            "min         0.000000       0.000000  \n",
            "25%        14.400000      12.800000  \n",
            "50%        28.800000      25.600000  \n",
            "75%        45.000000      40.000000  \n",
            "max        57.600000      51.200000  \n",
            "<class 'pandas.core.frame.DataFrame'>\n",
            "Int64Index: 179 entries, 0 to 265\n",
            "Data columns (total 5 columns):\n",
            " #   Column                         Non-Null Count  Dtype  \n",
            "---  ------                         --------------  -----  \n",
            " 0   Student No.                    179 non-null    int64  \n",
            " 1   Hours spent studying in a day  179 non-null    int64  \n",
            " 2   Mathematics score              179 non-null    int64  \n",
            " 3   English score                  179 non-null    float64\n",
            " 4   Science score                  179 non-null    float64\n",
            "dtypes: float64(2), int64(3)\n",
            "memory usage: 8.4 KB\n",
            "None\n"
          ]
        }
      ]
    },
    {
      "cell_type": "markdown",
      "source": [
        "위의 표에서 학생의 점수에서 총 88개의 오류 데이터가 있음을 관찰할 수 있다!\n",
        "\n",
        "수학: 최소:0, 최대:64 영어: 최소:0, 최대:57.6 과학: 최소:0, 최대:51.2"
      ],
      "metadata": {
        "id": "LwHeqws__dBb"
      }
    },
    {
      "cell_type": "markdown",
      "source": [
        "# 2. 누락 데이터 \n",
        "\n",
        "누락된 데이터는 데이터세트 내의 간격을 나타낸다. \n",
        "\n",
        "누락된 데이터는 다양한 형식을 가질 수 있다. \n",
        "일반적으로 누락된 데이터는 NaN이라 표현하지만 일부 데이터 세트는 누락된 데이터를 나아내기 위해 매우 큰 숫자 혹은 매우 작은 숫자를 사용.\n",
        "기상 또는 날씨 데이터에서 -9999 값은 누락된 데이터 값을 나타내는데 사용된다.\n",
        "\n",
        "분석을 수행하기 전에 데이터 세트에서 이러한 누락된 데이터 값을 제거하거나 교체하는 것이 중요하다. 분석의 정확성을 보장하기 위해서!! \n",
        "\n",
        "누락된 값을 식별하고 처리하는 방법을 알아보장"
      ],
      "metadata": {
        "id": "cRvZEcrb_oHE"
      }
    },
    {
      "cell_type": "markdown",
      "source": [
        "## 2.1 집 가격\n",
        "\n",
        "\n",
        "데이터는 아래에 나와 있습니다. House_prices는 미국 달러(USD)로 표시된 집의 가격을 나타내고 Num_rooms는 집에 있는 방의 수를 나타냅니다. 코드를 실행하고 출력을 주의 깊게 관찰하십시오!\n"
      ],
      "metadata": {
        "id": "K5LGXGP_AR_Q"
      }
    },
    {
      "cell_type": "code",
      "source": [
        "House_prices = [10050,42300,50206,np.nan,105000,np.nan,22350]\n",
        "Num_rooms =    [np.nan,4,   5,    6,     10,    12,    2]\n",
        "\n",
        "print('Total number of data points in House_prices = ',np.count_nonzero(~np.isnan(House_prices)))\n",
        "print('Total number of data points in Num_rooms = ',np.count_nonzero(~np.isnan(Num_rooms)))"
      ],
      "metadata": {
        "colab": {
          "base_uri": "https://localhost:8080/"
        },
        "id": "pG3NfwMy_VIU",
        "outputId": "4318bb1e-ed67-4ae5-8ea8-72f3fa3a96e6"
      },
      "execution_count": 25,
      "outputs": [
        {
          "output_type": "stream",
          "name": "stdout",
          "text": [
            "Total number of data points in House_prices =  5\n",
            "Total number of data points in Num_rooms =  6\n"
          ]
        }
      ]
    },
    {
      "cell_type": "markdown",
      "source": [
        "**numpy.count_nonzero()**\n",
        "\n",
        "배열 a 의 0이 아닌 값의 개수를 계산\n",
        "https://runebook.dev/ko/docs/numpy/reference/generated/numpy.count_nonzero\n",
        "\n",
        "**numpy.isnan()**\n",
        "isnan 함수는 데이터가 nan(not a number)인지 아닌지를 판별해주는 함수입니다. nan이면 True를, nan이 아니면 False를 반환합니다.\n",
        "https://bskyvision.com/entry/python-numpy-%ED%8C%A8%ED%82%A4%EC%A7%80-%EC%9C%A0%EC%9A%A9%ED%95%9C-%ED%95%A8%EC%88%98%EB%93%A4-%EC%A0%95%EB%A6%AC-2%ED%8E%B8\n",
        "\n"
      ],
      "metadata": {
        "id": "U-3ofpiMHSvP"
      }
    },
    {
      "cell_type": "markdown",
      "source": [
        "House_prices의 데이터 포인트 수가 Num_rooms의 데이터 포인트 수와 다른 이유는 무엇입니까? 총 몇 채의 집이 있습니까?\n",
        "\n",
        "컬럼에 모두 누락된 데이터 존재. 총 7개의 집이 있다."
      ],
      "metadata": {
        "id": "Sjay58YQGeDb"
      }
    },
    {
      "cell_type": "markdown",
      "source": [
        "데이터 세트에서 누락된 데이터를 제거하고, 산점도를 그려보자.\n",
        "축에 레이블을 지정해야함.\n",
        "누락된 값이 있는 데이터는 모두 제거해야 한다.예를 들어 집값에 누락된 값이 있는 경우 해당하는 방 수도 같이 제거해야 한다."
      ],
      "metadata": {
        "id": "cEeIeew0H6mh"
      }
    },
    {
      "cell_type": "code",
      "source": [
        "House_prices = [42300,50206,105000,22350]\n",
        "Num_rooms =    [4,5,10,2]\n",
        "\n",
        "plt.scatter(Num_rooms[0:4],House_prices[0:4])\n",
        "\n",
        "plt.xlabel(\"Num rooms\")\n",
        "plt.ylabel(\"House prices\")\n",
        "\n",
        "plt.show() "
      ],
      "metadata": {
        "colab": {
          "base_uri": "https://localhost:8080/",
          "height": 279
        },
        "id": "idBG4gVbAeff",
        "outputId": "031698d8-69fb-4d62-ddb6-11c005427bc4"
      },
      "execution_count": 27,
      "outputs": [
        {
          "output_type": "display_data",
          "data": {
            "text/plain": [
              "<Figure size 432x288 with 1 Axes>"
            ],
            "image/png": "[encoded data removed]"
          },
          "metadata": {
            "needs_background": "light"
          }
        }
      ]
    },
    {
      "cell_type": "markdown",
      "source": [
        "## 2.2 데이터 프레임에서 누락된 값 처리\n"
      ],
      "metadata": {
        "id": "49JGugcjJAe-"
      }
    },
    {
      "cell_type": "code",
      "source": [
        "df = pd.read_csv(\"/content/drive/MyDrive/Colab Notebooks/intel 복습/17/Students_Score2.csv\")"
      ],
      "metadata": {
        "id": "ngoZW7_ZI2Yw"
      },
      "execution_count": 33,
      "outputs": []
    },
    {
      "cell_type": "code",
      "source": [
        "df.head()"
      ],
      "metadata": {
        "colab": {
          "base_uri": "https://localhost:8080/",
          "height": 267
        },
        "id": "ZuWzFd9-KFod",
        "outputId": "417ced7b-4b43-4d6e-eb87-ddcf5854e870"
      },
      "execution_count": 34,
      "outputs": [
        {
          "output_type": "execute_result",
          "data": {
            "text/plain": [
              "   Student No.  Hours spent studying in a day  Mathematics score  \\\n",
              "0            1                            0.0                0.0   \n",
              "1            2                            3.0               15.0   \n",
              "2            3                            2.0               10.0   \n",
              "3            4                           13.0               65.0   \n",
              "4            5                            0.0                0.0   \n",
              "\n",
              "   English score  Science score  \n",
              "0            0.0            0.0  \n",
              "1           12.9           12.6  \n",
              "2            8.6            8.4  \n",
              "3           55.9           54.6  \n",
              "4            0.0            0.0  "
            ],
            "text/html": [
              "\n",
              "  <div id=\"df-ba7703d3-3178-43b3-8597-ceed97896de4\">\n",
              "    <div class=\"colab-df-container\">\n",
              "      <div>\n",
              "<style scoped>\n",
              "    .dataframe tbody tr th:only-of-type {\n",
              "        vertical-align: middle;\n",
              "    }\n",
              "\n",
              "    .dataframe tbody tr th {\n",
              "        vertical-align: top;\n",
              "    }\n",
              "\n",
              "    .dataframe thead th {\n",
              "        text-align: right;\n",
              "    }\n",
              "</style>\n",
              "<table border=\"1\" class=\"dataframe\">\n",
              "  <thead>\n",
              "    <tr style=\"text-align: right;\">\n",
              "      <th></th>\n",
              "      <th>Student No.</th>\n",
              "      <th>Hours spent studying in a day</th>\n",
              "      <th>Mathematics score</th>\n",
              "      <th>English score</th>\n",
              "      <th>Science score</th>\n",
              "    </tr>\n",
              "  </thead>\n",
              "  <tbody>\n",
              "    <tr>\n",
              "      <th>0</th>\n",
              "      <td>1</td>\n",
              "      <td>0.0</td>\n",
              "      <td>0.0</td>\n",
              "      <td>0.0</td>\n",
              "      <td>0.0</td>\n",
              "    </tr>\n",
              "    <tr>\n",
              "      <th>1</th>\n",
              "      <td>2</td>\n",
              "      <td>3.0</td>\n",
              "      <td>15.0</td>\n",
              "      <td>12.9</td>\n",
              "      <td>12.6</td>\n",
              "    </tr>\n",
              "    <tr>\n",
              "      <th>2</th>\n",
              "      <td>3</td>\n",
              "      <td>2.0</td>\n",
              "      <td>10.0</td>\n",
              "      <td>8.6</td>\n",
              "      <td>8.4</td>\n",
              "    </tr>\n",
              "    <tr>\n",
              "      <th>3</th>\n",
              "      <td>4</td>\n",
              "      <td>13.0</td>\n",
              "      <td>65.0</td>\n",
              "      <td>55.9</td>\n",
              "      <td>54.6</td>\n",
              "    </tr>\n",
              "    <tr>\n",
              "      <th>4</th>\n",
              "      <td>5</td>\n",
              "      <td>0.0</td>\n",
              "      <td>0.0</td>\n",
              "      <td>0.0</td>\n",
              "      <td>0.0</td>\n",
              "    </tr>\n",
              "  </tbody>\n",
              "</table>\n",
              "</div>\n",
              "      <button class=\"colab-df-convert\" onclick=\"convertToInteractive('df-ba7703d3-3178-43b3-8597-ceed97896de4')\"\n",
              "              title=\"Convert this dataframe to an interactive table.\"\n",
              "              style=\"display:none;\">\n",
              "        \n",
              "  <svg xmlns=\"http://www.w3.org/2000/svg\" height=\"24px\"viewBox=\"0 0 24 24\"\n",
              "       width=\"24px\">\n",
              "    <path d=\"M0 0h24v24H0V0z\" fill=\"none\"/>\n",
              "    <path d=\"M18.56 5.44l.94 2.06.94-2.06 2.06-.94-2.06-.94-.94-2.06-.94 2.06-2.06.94zm-11 1L8.5 8.5l.94-2.06 2.06-.94-2.06-.94L8.5 2.5l-.94 2.06-2.06.94zm10 10l.94 2.06.94-2.06 2.06-.94-2.06-.94-.94-2.06-.94 2.06-2.06.94z\"/><path d=\"M17.41 7.96l-1.37-1.37c-.4-.4-.92-.59-1.43-.59-.52 0-1.04.2-1.43.59L10.3 9.45l-7.72 7.72c-.78.78-.78 2.05 0 2.83L4 21.41c.39.39.9.59 1.41.59.51 0 1.02-.2 1.41-.59l7.78-7.78 2.81-2.81c.8-.78.8-2.07 0-2.86zM5.41 20L4 18.59l7.72-7.72 1.47 1.35L5.41 20z\"/>\n",
              "  </svg>\n",
              "      </button>\n",
              "      \n",
              "  <style>\n",
              "    .colab-df-container {\n",
              "      display:flex;\n",
              "      flex-wrap:wrap;\n",
              "      gap: 12px;\n",
              "    }\n",
              "\n",
              "    .colab-df-convert {\n",
              "      background-color: #E8F0FE;\n",
              "      border: none;\n",
              "      border-radius: 50%;\n",
              "      cursor: pointer;\n",
              "      display: none;\n",
              "      fill: #1967D2;\n",
              "      height: 32px;\n",
              "      padding: 0 0 0 0;\n",
              "      width: 32px;\n",
              "    }\n",
              "\n",
              "    .colab-df-convert:hover {\n",
              "      background-color: #E2EBFA;\n",
              "      box-shadow: 0px 1px 2px rgba(60, 64, 67, 0.3), 0px 1px 3px 1px rgba(60, 64, 67, 0.15);\n",
              "      fill: #174EA6;\n",
              "    }\n",
              "\n",
              "    [theme=dark] .colab-df-convert {\n",
              "      background-color: #3B4455;\n",
              "      fill: #D2E3FC;\n",
              "    }\n",
              "\n",
              "    [theme=dark] .colab-df-convert:hover {\n",
              "      background-color: #434B5C;\n",
              "      box-shadow: 0px 1px 3px 1px rgba(0, 0, 0, 0.15);\n",
              "      filter: drop-shadow(0px 1px 2px rgba(0, 0, 0, 0.3));\n",
              "      fill: #FFFFFF;\n",
              "    }\n",
              "  </style>\n",
              "\n",
              "      <script>\n",
              "        const buttonEl =\n",
              "          document.querySelector('#df-ba7703d3-3178-43b3-8597-ceed97896de4 button.colab-df-convert');\n",
              "        buttonEl.style.display =\n",
              "          google.colab.kernel.accessAllowed ? 'block' : 'none';\n",
              "\n",
              "        async function convertToInteractive(key) {\n",
              "          const element = document.querySelector('#df-ba7703d3-3178-43b3-8597-ceed97896de4');\n",
              "          const dataTable =\n",
              "            await google.colab.kernel.invokeFunction('convertToInteractive',\n",
              "                                                     [key], {});\n",
              "          if (!dataTable) return;\n",
              "\n",
              "          const docLinkHtml = 'Like what you see? Visit the ' +\n",
              "            '<a target=\"_blank\" href=https://colab.research.google.com/notebooks/data_table.ipynb>data table notebook</a>'\n",
              "            + ' to learn more about interactive tables.';\n",
              "          element.innerHTML = '';\n",
              "          dataTable['output_type'] = 'display_data';\n",
              "          await google.colab.output.renderOutput(dataTable, element);\n",
              "          const docLink = document.createElement('div');\n",
              "          docLink.innerHTML = docLinkHtml;\n",
              "          element.appendChild(docLink);\n",
              "        }\n",
              "      </script>\n",
              "    </div>\n",
              "  </div>\n",
              "  "
            ]
          },
          "metadata": {},
          "execution_count": 34
        }
      ]
    },
    {
      "cell_type": "code",
      "source": [
        "df.info()"
      ],
      "metadata": {
        "colab": {
          "base_uri": "https://localhost:8080/"
        },
        "id": "Tkbd4R0ZKJqI",
        "outputId": "8b5b870a-ed08-4101-cb8f-f43aed7da1a7"
      },
      "execution_count": 35,
      "outputs": [
        {
          "output_type": "stream",
          "name": "stdout",
          "text": [
            "<class 'pandas.core.frame.DataFrame'>\n",
            "RangeIndex: 387 entries, 0 to 386\n",
            "Data columns (total 5 columns):\n",
            " #   Column                         Non-Null Count  Dtype  \n",
            "---  ------                         --------------  -----  \n",
            " 0   Student No.                    387 non-null    int64  \n",
            " 1   Hours spent studying in a day  382 non-null    float64\n",
            " 2   Mathematics score              383 non-null    float64\n",
            " 3   English score                  382 non-null    float64\n",
            " 4   Science score                  383 non-null    float64\n",
            "dtypes: float64(4), int64(1)\n",
            "memory usage: 15.2 KB\n"
          ]
        }
      ]
    },
    {
      "cell_type": "markdown",
      "source": [
        "각 열에 대해 행수가 다른 것을 볼 수 있다. \n",
        "Why? 행에 누락된 숫자가 있기 때문!\n",
        "\n",
        "누락된 값을 처리하기 전에 먼저 잘못된 데이터를 확인해야 한다. describe()를 출력하고 최소값과 최대값을 관찰하자"
      ],
      "metadata": {
        "id": "9yyKP7VCKQBs"
      }
    },
    {
      "cell_type": "code",
      "source": [
        "df.describe()"
      ],
      "metadata": {
        "colab": {
          "base_uri": "https://localhost:8080/",
          "height": 361
        },
        "id": "S23NSRqGKLiM",
        "outputId": "668e0152-fc1e-46da-aad2-15c542f3e077"
      },
      "execution_count": 36,
      "outputs": [
        {
          "output_type": "execute_result",
          "data": {
            "text/plain": [
              "       Student No.  Hours spent studying in a day  Mathematics score  \\\n",
              "count   387.000000                     382.000000         383.000000   \n",
              "mean    194.000000                       7.083770          35.417755   \n",
              "std     111.861522                       4.473697          22.271713   \n",
              "min       1.000000                       0.000000           0.000000   \n",
              "25%      97.500000                       3.000000          15.000000   \n",
              "50%     194.000000                       7.000000          35.000000   \n",
              "75%     290.500000                      11.000000          55.000000   \n",
              "max     387.000000                      15.000000          75.000000   \n",
              "\n",
              "       English score  Science score  \n",
              "count     382.000000     383.000000  \n",
              "mean       30.392670      29.641253  \n",
              "std        19.258215      18.783876  \n",
              "min         0.000000       0.000000  \n",
              "25%        12.900000      12.600000  \n",
              "50%        30.100000      29.400000  \n",
              "75%        47.300000      46.200000  \n",
              "max        64.500000      63.000000  "
            ],
            "text/html": [
              "\n",
              "  <div id=\"df-3853896c-d0db-42c5-bf4e-e9cb8e6bc13e\">\n",
              "    <div class=\"colab-df-container\">\n",
              "      <div>\n",
              "<style scoped>\n",
              "    .dataframe tbody tr th:only-of-type {\n",
              "        vertical-align: middle;\n",
              "    }\n",
              "\n",
              "    .dataframe tbody tr th {\n",
              "        vertical-align: top;\n",
              "    }\n",
              "\n",
              "    .dataframe thead th {\n",
              "        text-align: right;\n",
              "    }\n",
              "</style>\n",
              "<table border=\"1\" class=\"dataframe\">\n",
              "  <thead>\n",
              "    <tr style=\"text-align: right;\">\n",
              "      <th></th>\n",
              "      <th>Student No.</th>\n",
              "      <th>Hours spent studying in a day</th>\n",
              "      <th>Mathematics score</th>\n",
              "      <th>English score</th>\n",
              "      <th>Science score</th>\n",
              "    </tr>\n",
              "  </thead>\n",
              "  <tbody>\n",
              "    <tr>\n",
              "      <th>count</th>\n",
              "      <td>387.000000</td>\n",
              "      <td>382.000000</td>\n",
              "      <td>383.000000</td>\n",
              "      <td>382.000000</td>\n",
              "      <td>383.000000</td>\n",
              "    </tr>\n",
              "    <tr>\n",
              "      <th>mean</th>\n",
              "      <td>194.000000</td>\n",
              "      <td>7.083770</td>\n",
              "      <td>35.417755</td>\n",
              "      <td>30.392670</td>\n",
              "      <td>29.641253</td>\n",
              "    </tr>\n",
              "    <tr>\n",
              "      <th>std</th>\n",
              "      <td>111.861522</td>\n",
              "      <td>4.473697</td>\n",
              "      <td>22.271713</td>\n",
              "      <td>19.258215</td>\n",
              "      <td>18.783876</td>\n",
              "    </tr>\n",
              "    <tr>\n",
              "      <th>min</th>\n",
              "      <td>1.000000</td>\n",
              "      <td>0.000000</td>\n",
              "      <td>0.000000</td>\n",
              "      <td>0.000000</td>\n",
              "      <td>0.000000</td>\n",
              "    </tr>\n",
              "    <tr>\n",
              "      <th>25%</th>\n",
              "      <td>97.500000</td>\n",
              "      <td>3.000000</td>\n",
              "      <td>15.000000</td>\n",
              "      <td>12.900000</td>\n",
              "      <td>12.600000</td>\n",
              "    </tr>\n",
              "    <tr>\n",
              "      <th>50%</th>\n",
              "      <td>194.000000</td>\n",
              "      <td>7.000000</td>\n",
              "      <td>35.000000</td>\n",
              "      <td>30.100000</td>\n",
              "      <td>29.400000</td>\n",
              "    </tr>\n",
              "    <tr>\n",
              "      <th>75%</th>\n",
              "      <td>290.500000</td>\n",
              "      <td>11.000000</td>\n",
              "      <td>55.000000</td>\n",
              "      <td>47.300000</td>\n",
              "      <td>46.200000</td>\n",
              "    </tr>\n",
              "    <tr>\n",
              "      <th>max</th>\n",
              "      <td>387.000000</td>\n",
              "      <td>15.000000</td>\n",
              "      <td>75.000000</td>\n",
              "      <td>64.500000</td>\n",
              "      <td>63.000000</td>\n",
              "    </tr>\n",
              "  </tbody>\n",
              "</table>\n",
              "</div>\n",
              "      <button class=\"colab-df-convert\" onclick=\"convertToInteractive('df-3853896c-d0db-42c5-bf4e-e9cb8e6bc13e')\"\n",
              "              title=\"Convert this dataframe to an interactive table.\"\n",
              "              style=\"display:none;\">\n",
              "        \n",
              "  <svg xmlns=\"http://www.w3.org/2000/svg\" height=\"24px\"viewBox=\"0 0 24 24\"\n",
              "       width=\"24px\">\n",
              "    <path d=\"M0 0h24v24H0V0z\" fill=\"none\"/>\n",
              "    <path d=\"M18.56 5.44l.94 2.06.94-2.06 2.06-.94-2.06-.94-.94-2.06-.94 2.06-2.06.94zm-11 1L8.5 8.5l.94-2.06 2.06-.94-2.06-.94L8.5 2.5l-.94 2.06-2.06.94zm10 10l.94 2.06.94-2.06 2.06-.94-2.06-.94-.94-2.06-.94 2.06-2.06.94z\"/><path d=\"M17.41 7.96l-1.37-1.37c-.4-.4-.92-.59-1.43-.59-.52 0-1.04.2-1.43.59L10.3 9.45l-7.72 7.72c-.78.78-.78 2.05 0 2.83L4 21.41c.39.39.9.59 1.41.59.51 0 1.02-.2 1.41-.59l7.78-7.78 2.81-2.81c.8-.78.8-2.07 0-2.86zM5.41 20L4 18.59l7.72-7.72 1.47 1.35L5.41 20z\"/>\n",
              "  </svg>\n",
              "      </button>\n",
              "      \n",
              "  <style>\n",
              "    .colab-df-container {\n",
              "      display:flex;\n",
              "      flex-wrap:wrap;\n",
              "      gap: 12px;\n",
              "    }\n",
              "\n",
              "    .colab-df-convert {\n",
              "      background-color: #E8F0FE;\n",
              "      border: none;\n",
              "      border-radius: 50%;\n",
              "      cursor: pointer;\n",
              "      display: none;\n",
              "      fill: #1967D2;\n",
              "      height: 32px;\n",
              "      padding: 0 0 0 0;\n",
              "      width: 32px;\n",
              "    }\n",
              "\n",
              "    .colab-df-convert:hover {\n",
              "      background-color: #E2EBFA;\n",
              "      box-shadow: 0px 1px 2px rgba(60, 64, 67, 0.3), 0px 1px 3px 1px rgba(60, 64, 67, 0.15);\n",
              "      fill: #174EA6;\n",
              "    }\n",
              "\n",
              "    [theme=dark] .colab-df-convert {\n",
              "      background-color: #3B4455;\n",
              "      fill: #D2E3FC;\n",
              "    }\n",
              "\n",
              "    [theme=dark] .colab-df-convert:hover {\n",
              "      background-color: #434B5C;\n",
              "      box-shadow: 0px 1px 3px 1px rgba(0, 0, 0, 0.15);\n",
              "      filter: drop-shadow(0px 1px 2px rgba(0, 0, 0, 0.3));\n",
              "      fill: #FFFFFF;\n",
              "    }\n",
              "  </style>\n",
              "\n",
              "      <script>\n",
              "        const buttonEl =\n",
              "          document.querySelector('#df-3853896c-d0db-42c5-bf4e-e9cb8e6bc13e button.colab-df-convert');\n",
              "        buttonEl.style.display =\n",
              "          google.colab.kernel.accessAllowed ? 'block' : 'none';\n",
              "\n",
              "        async function convertToInteractive(key) {\n",
              "          const element = document.querySelector('#df-3853896c-d0db-42c5-bf4e-e9cb8e6bc13e');\n",
              "          const dataTable =\n",
              "            await google.colab.kernel.invokeFunction('convertToInteractive',\n",
              "                                                     [key], {});\n",
              "          if (!dataTable) return;\n",
              "\n",
              "          const docLinkHtml = 'Like what you see? Visit the ' +\n",
              "            '<a target=\"_blank\" href=https://colab.research.google.com/notebooks/data_table.ipynb>data table notebook</a>'\n",
              "            + ' to learn more about interactive tables.';\n",
              "          element.innerHTML = '';\n",
              "          dataTable['output_type'] = 'display_data';\n",
              "          await google.colab.output.renderOutput(dataTable, element);\n",
              "          const docLink = document.createElement('div');\n",
              "          docLink.innerHTML = docLinkHtml;\n",
              "          element.appendChild(docLink);\n",
              "        }\n",
              "      </script>\n",
              "    </div>\n",
              "  </div>\n",
              "  "
            ]
          },
          "metadata": {},
          "execution_count": 36
        }
      ]
    },
    {
      "cell_type": "markdown",
      "source": [
        "이제 공부한 시간이 0에서 15 사이이고 모든 점수도 0에서 100 사이임을 알 수 있다. 이는 데이터 세트에 오류가 없음을 나타낸다."
      ],
      "metadata": {
        "id": "sHskDSDqKnsw"
      }
    },
    {
      "cell_type": "markdown",
      "source": [
        "이제 dropna()를 이용하여 누락된 값을 제거할 것이다.\n",
        "\n",
        "- 누락된 값이 있는 행을 제거하려면 df.dropna(axis=0)를 호출\n",
        "- 열을 제거하려면 df.dropna(axis=1)를 호출\n",
        "\n",
        "\n",
        "https://pandas.pydata.org/pandas-docs/stable/reference/api/pandas.DataFrame.dropna.html"
      ],
      "metadata": {
        "id": "efxdJRhWKtZb"
      }
    },
    {
      "cell_type": "code",
      "source": [
        "df2 = df.dropna(axis=0)"
      ],
      "metadata": {
        "id": "ctqWSSQ2KfIk"
      },
      "execution_count": 37,
      "outputs": []
    },
    {
      "cell_type": "code",
      "source": [
        "df2.info()"
      ],
      "metadata": {
        "colab": {
          "base_uri": "https://localhost:8080/"
        },
        "id": "Y7EykNTeLO98",
        "outputId": "d4038c3e-7582-4629-eb9c-eab851fbefb8"
      },
      "execution_count": 38,
      "outputs": [
        {
          "output_type": "stream",
          "name": "stdout",
          "text": [
            "<class 'pandas.core.frame.DataFrame'>\n",
            "Int64Index: 373 entries, 0 to 386\n",
            "Data columns (total 5 columns):\n",
            " #   Column                         Non-Null Count  Dtype  \n",
            "---  ------                         --------------  -----  \n",
            " 0   Student No.                    373 non-null    int64  \n",
            " 1   Hours spent studying in a day  373 non-null    float64\n",
            " 2   Mathematics score              373 non-null    float64\n",
            " 3   English score                  373 non-null    float64\n",
            " 4   Science score                  373 non-null    float64\n",
            "dtypes: float64(4), int64(1)\n",
            "memory usage: 17.5 KB\n"
          ]
        }
      ]
    },
    {
      "cell_type": "markdown",
      "source": [
        "이제 모든 열에 대한 행의 숫자가 동일한 것을 확인할 수 있다."
      ],
      "metadata": {
        "id": "Kvqqjf7SLRif"
      }
    },
    {
      "cell_type": "code",
      "source": [
        "print(\"데이터가 누락된 학생 수:%d명\" %(387-373))"
      ],
      "metadata": {
        "colab": {
          "base_uri": "https://localhost:8080/"
        },
        "id": "DPeEtf-GLQYi",
        "outputId": "0d06b3f0-d077-45b1-f68f-2eae85d5291f"
      },
      "execution_count": 45,
      "outputs": [
        {
          "output_type": "stream",
          "name": "stdout",
          "text": [
            "데이터가 누락된 학생 수:14명\n"
          ]
        }
      ]
    },
    {
      "cell_type": "markdown",
      "source": [
        "<font color=Blue> 데이터 세트가 매우 작을 땐 누락된 값을 대신 평균값 또는 빈도가 높은 다른 값으로 채울 수도 있다.\n"
      ],
      "metadata": {
        "id": "7Fl_rZPmL89s"
      }
    },
    {
      "cell_type": "code",
      "source": [
        "df3 = df.copy()\n",
        "print(\"Before filling in missing values...................\")\n",
        "print(df3.info())\n",
        "df3['Mathematics score']=df3['Mathematics score'].fillna(df['Mathematics score'].mean())\n",
        "df3['Hours spent studying in a day']=df3['Hours spent studying in a day'].fillna(df['Hours spent studying in a day'].mean())\n",
        "df3['English score']=df3['English score'].fillna(df['English score'].mean())\n",
        "df3['Science score']=df3['Science score'].fillna(df['Science score'].mean())\n",
        "print(\"After filling in missing values................\")\n",
        "print(df3.info())"
      ],
      "metadata": {
        "colab": {
          "base_uri": "https://localhost:8080/"
        },
        "id": "p2NPaQX2Lhxg",
        "outputId": "436e8488-a4e3-4041-d303-b148f32bc169"
      },
      "execution_count": 47,
      "outputs": [
        {
          "output_type": "stream",
          "name": "stdout",
          "text": [
            "Before filling in missing values...................\n",
            "<class 'pandas.core.frame.DataFrame'>\n",
            "RangeIndex: 387 entries, 0 to 386\n",
            "Data columns (total 5 columns):\n",
            " #   Column                         Non-Null Count  Dtype  \n",
            "---  ------                         --------------  -----  \n",
            " 0   Student No.                    387 non-null    int64  \n",
            " 1   Hours spent studying in a day  382 non-null    float64\n",
            " 2   Mathematics score              383 non-null    float64\n",
            " 3   English score                  382 non-null    float64\n",
            " 4   Science score                  383 non-null    float64\n",
            "dtypes: float64(4), int64(1)\n",
            "memory usage: 15.2 KB\n",
            "None\n",
            "After filling in missing values................\n",
            "<class 'pandas.core.frame.DataFrame'>\n",
            "RangeIndex: 387 entries, 0 to 386\n",
            "Data columns (total 5 columns):\n",
            " #   Column                         Non-Null Count  Dtype  \n",
            "---  ------                         --------------  -----  \n",
            " 0   Student No.                    387 non-null    int64  \n",
            " 1   Hours spent studying in a day  387 non-null    float64\n",
            " 2   Mathematics score              387 non-null    float64\n",
            " 3   English score                  387 non-null    float64\n",
            " 4   Science score                  387 non-null    float64\n",
            "dtypes: float64(4), int64(1)\n",
            "memory usage: 15.2 KB\n",
            "None\n"
          ]
        }
      ]
    },
    {
      "cell_type": "code",
      "source": [],
      "metadata": {
        "id": "5KWEF4UGMPn8"
      },
      "execution_count": null,
      "outputs": []
    }
  ]
}